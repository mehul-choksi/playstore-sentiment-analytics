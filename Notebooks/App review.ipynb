{
 "cells": [
  {
   "cell_type": "markdown",
   "metadata": {},
   "source": [
    "### Load essential libraries"
   ]
  },
  {
   "cell_type": "code",
   "execution_count": 1,
   "metadata": {},
   "outputs": [],
   "source": [
    "import pandas as pd\n",
    "import numpy as np\n",
    "\n",
    "import matplotlib.pyplot as plt\n",
    "import seaborn as sns\n",
    "\n",
    "import spacy\n",
    "\n",
    "%matplotlib inline"
   ]
  },
  {
   "cell_type": "code",
   "execution_count": 2,
   "metadata": {},
   "outputs": [],
   "source": [
    "data = pd.read_csv('data.csv')"
   ]
  },
  {
   "cell_type": "code",
   "execution_count": 3,
   "metadata": {},
   "outputs": [
    {
     "data": {
      "text/html": [
       "<div>\n",
       "<style scoped>\n",
       "    .dataframe tbody tr th:only-of-type {\n",
       "        vertical-align: middle;\n",
       "    }\n",
       "\n",
       "    .dataframe tbody tr th {\n",
       "        vertical-align: top;\n",
       "    }\n",
       "\n",
       "    .dataframe thead th {\n",
       "        text-align: right;\n",
       "    }\n",
       "</style>\n",
       "<table border=\"1\" class=\"dataframe\">\n",
       "  <thead>\n",
       "    <tr style=\"text-align: right;\">\n",
       "      <th></th>\n",
       "      <th>date</th>\n",
       "      <th>year</th>\n",
       "      <th>review_likes</th>\n",
       "      <th>review</th>\n",
       "      <th>rating</th>\n",
       "    </tr>\n",
       "  </thead>\n",
       "  <tbody>\n",
       "    <tr>\n",
       "      <th>0</th>\n",
       "      <td>September 18</td>\n",
       "      <td>2019</td>\n",
       "      <td>111</td>\n",
       "      <td>i have a paid account and recently upgraded to...</td>\n",
       "      <td>1.0</td>\n",
       "    </tr>\n",
       "    <tr>\n",
       "      <th>1</th>\n",
       "      <td>October 6</td>\n",
       "      <td>2019</td>\n",
       "      <td>14</td>\n",
       "      <td>every month i have been paying regularly for m...</td>\n",
       "      <td>3.0</td>\n",
       "    </tr>\n",
       "    <tr>\n",
       "      <th>2</th>\n",
       "      <td>October 4</td>\n",
       "      <td>2019</td>\n",
       "      <td>35</td>\n",
       "      <td>this app has simply made a happy google custom...</td>\n",
       "      <td>5.0</td>\n",
       "    </tr>\n",
       "    <tr>\n",
       "      <th>3</th>\n",
       "      <td>September 27</td>\n",
       "      <td>2019</td>\n",
       "      <td>36</td>\n",
       "      <td>it s alright but at this point i feel like the...</td>\n",
       "      <td>3.0</td>\n",
       "    </tr>\n",
       "    <tr>\n",
       "      <th>4</th>\n",
       "      <td>October 9</td>\n",
       "      <td>2019</td>\n",
       "      <td>0</td>\n",
       "      <td>google is good   but the game harvest solitair...</td>\n",
       "      <td>4.0</td>\n",
       "    </tr>\n",
       "  </tbody>\n",
       "</table>\n",
       "</div>"
      ],
      "text/plain": [
       "           date  year review_likes  \\\n",
       "0  September 18  2019          111   \n",
       "1     October 6  2019           14   \n",
       "2     October 4  2019           35   \n",
       "3  September 27  2019           36   \n",
       "4     October 9  2019            0   \n",
       "\n",
       "                                              review  rating  \n",
       "0  i have a paid account and recently upgraded to...     1.0  \n",
       "1  every month i have been paying regularly for m...     3.0  \n",
       "2  this app has simply made a happy google custom...     5.0  \n",
       "3  it s alright but at this point i feel like the...     3.0  \n",
       "4  google is good   but the game harvest solitair...     4.0  "
      ]
     },
     "execution_count": 3,
     "metadata": {},
     "output_type": "execute_result"
    }
   ],
   "source": [
    "data.head()"
   ]
  },
  {
   "cell_type": "code",
   "execution_count": 4,
   "metadata": {},
   "outputs": [
    {
     "data": {
      "text/plain": [
       "5.0    48048\n",
       "1.0    39366\n",
       "4.0    12276\n",
       "3.0     8074\n",
       "2.0     6381\n",
       "Name: rating, dtype: int64"
      ]
     },
     "execution_count": 4,
     "metadata": {},
     "output_type": "execute_result"
    }
   ],
   "source": [
    "data.rating.value_counts()"
   ]
  },
  {
   "cell_type": "code",
   "execution_count": 5,
   "metadata": {},
   "outputs": [
    {
     "data": {
      "text/plain": [
       "(114205, 5)"
      ]
     },
     "execution_count": 5,
     "metadata": {},
     "output_type": "execute_result"
    }
   ],
   "source": [
    "data.shape"
   ]
  },
  {
   "cell_type": "markdown",
   "metadata": {},
   "source": [
    "### Drop null values\n",
    "Null count is around 1000"
   ]
  },
  {
   "cell_type": "code",
   "execution_count": 6,
   "metadata": {},
   "outputs": [],
   "source": [
    "# convert all text data to lowercase\n",
    "data.review = data.review.str.lower()"
   ]
  },
  {
   "cell_type": "code",
   "execution_count": 7,
   "metadata": {},
   "outputs": [],
   "source": [
    "data = data.dropna()"
   ]
  },
  {
   "cell_type": "code",
   "execution_count": 8,
   "metadata": {},
   "outputs": [
    {
     "data": {
      "text/plain": [
       "date            False\n",
       "year            False\n",
       "review_likes    False\n",
       "review          False\n",
       "rating          False\n",
       "dtype: bool"
      ]
     },
     "execution_count": 8,
     "metadata": {},
     "output_type": "execute_result"
    }
   ],
   "source": [
    "data.isna().any()"
   ]
  },
  {
   "cell_type": "code",
   "execution_count": 9,
   "metadata": {},
   "outputs": [],
   "source": [
    "data.review_likes = pd.to_numeric(data.review_likes)"
   ]
  },
  {
   "cell_type": "code",
   "execution_count": 10,
   "metadata": {},
   "outputs": [
    {
     "name": "stderr",
     "output_type": "stream",
     "text": [
      "/home/sukhad/env/lib/python3.5/site-packages/scipy/stats/stats.py:1706: FutureWarning: Using a non-tuple sequence for multidimensional indexing is deprecated; use `arr[tuple(seq)]` instead of `arr[seq]`. In the future this will be interpreted as an array index, `arr[np.array(seq)]`, which will result either in an error or a different result.\n",
      "  return np.add.reduce(sorted[indexer] * weights, axis=axis) / sumval\n"
     ]
    },
    {
     "data": {
      "text/plain": [
       "<matplotlib.axes._subplots.AxesSubplot at 0x7fea61e9cb00>"
      ]
     },
     "execution_count": 10,
     "metadata": {},
     "output_type": "execute_result"
    },
    {
     "data": {
      "image/png": "[encoded data removed]",
      "text/plain": [
       "<Figure size 432x288 with 1 Axes>"
      ]
     },
     "metadata": {},
     "output_type": "display_data"
    }
   ],
   "source": [
    "# relation between ratings and review_likes\n",
    "sns.barplot(x=data.rating,y=data.review_likes)"
   ]
  },
  {
   "cell_type": "code",
   "execution_count": 11,
   "metadata": {},
   "outputs": [],
   "source": [
    "nlp = spacy.load('en') "
   ]
  },
  {
   "cell_type": "code",
   "execution_count": 36,
   "metadata": {},
   "outputs": [
    {
     "name": "stdout",
     "output_type": "stream",
     "text": [
      "['i', 'have', 'a', 'pay', 'account', 'and', 'recently', 'upgrade', 'to', 'tb', 'and', 'i', 'still', 'can', 'not', 'control', 'or', 'see', 'what', 'i', 'can', 'or', 'can', 'not', 'backup', 'even', 'when', 'select', 'see', 'detail', 'the', 'detail', 'be', 'basically', 'turn', 'on', 'or', 'off', 'thing', 'data', 'multimedia', 'message', 'or', 'photo', 'video', 'so', 'if', 'you', 'want', 'to', 'see', 'if', 'a', 'certain', 'folder', 'be', 'be']\n",
      "i have a paid account and recently upgraded to  tb and i still cannot control or see what i can or cannot backup  even when selecting  see details   the  details  are basically turning on or off   things  data  multimedia messages or photos videos  so  if you want to see if a certain folder is being\n"
     ]
    }
   ],
   "source": [
    "# experimental\n",
    "def preprocess(x):\n",
    "    \"\"\"\n",
    "        Splits the sentence x into tokens, ignores stop words and lemmatize the tokens\n",
    "    \"\"\"\n",
    "    tokens = []\n",
    "    doc = nlp(x)\n",
    "    for token in doc:\n",
    "        if not token.is_space and not token.lemma_==\"-PRON-\" and not token.is_punct:\n",
    "            tokens.append(token.lemma_)\n",
    "        if token.lemma_ == \"-PRON-\":\n",
    "            tokens.append(str(token))\n",
    "    return tokens\n",
    "\n",
    "print(preprocess(data.review[0]))\n",
    "print(data.review[0])"
   ]
  },
  {
   "cell_type": "code",
   "execution_count": 39,
   "metadata": {},
   "outputs": [],
   "source": [
    "# does take some time around 20 f**king min\n",
    "#data['tokens'] = data.review.apply(preprocess)"
   ]
  },
  {
   "cell_type": "code",
   "execution_count": 2,
   "metadata": {},
   "outputs": [],
   "source": [
    "#data.to_csv(\"cleaned_data.csv\",index=False)\n",
    "data = pd.read_csv('cleaned_data.csv')"
   ]
  },
  {
   "cell_type": "code",
   "execution_count": 3,
   "metadata": {},
   "outputs": [
    {
     "data": {
      "text/plain": [
       "0         1.0\n",
       "1         3.0\n",
       "2         5.0\n",
       "3         3.0\n",
       "4         4.0\n",
       "5         1.0\n",
       "6         2.0\n",
       "7         1.0\n",
       "8         2.0\n",
       "9         1.0\n",
       "10        2.0\n",
       "11        1.0\n",
       "12        3.0\n",
       "13        2.0\n",
       "14        1.0\n",
       "15        5.0\n",
       "16        1.0\n",
       "17        1.0\n",
       "18        3.0\n",
       "19        4.0\n",
       "20        1.0\n",
       "21        1.0\n",
       "22        5.0\n",
       "23        1.0\n",
       "24        5.0\n",
       "25        5.0\n",
       "26        1.0\n",
       "27        1.0\n",
       "28        5.0\n",
       "29        5.0\n",
       "         ... \n",
       "113849    5.0\n",
       "113850    1.0\n",
       "113851    1.0\n",
       "113852    5.0\n",
       "113853    4.0\n",
       "113854    1.0\n",
       "113855    5.0\n",
       "113856    4.0\n",
       "113857    4.0\n",
       "113858    2.0\n",
       "113859    5.0\n",
       "113860    5.0\n",
       "113861    5.0\n",
       "113862    5.0\n",
       "113863    2.0\n",
       "113864    5.0\n",
       "113865    4.0\n",
       "113866    5.0\n",
       "113867    5.0\n",
       "113868    5.0\n",
       "113869    2.0\n",
       "113870    2.0\n",
       "113871    5.0\n",
       "113872    4.0\n",
       "113873    5.0\n",
       "113874    5.0\n",
       "113875    5.0\n",
       "113876    4.0\n",
       "113877    4.0\n",
       "113878    4.0\n",
       "Name: rating, Length: 113879, dtype: float64"
      ]
     },
     "execution_count": 3,
     "metadata": {},
     "output_type": "execute_result"
    }
   ],
   "source": [
    "data.rating"
   ]
  },
  {
   "cell_type": "code",
   "execution_count": 4,
   "metadata": {},
   "outputs": [],
   "source": [
    "data.rating = data.rating.map({1.0:1,2.0:1,3.0:2,4.0:3,5.0:3})"
   ]
  },
  {
   "cell_type": "code",
   "execution_count": 5,
   "metadata": {},
   "outputs": [
    {
     "data": {
      "image/png": "[encoded data removed]",
      "text/plain": [
       "<Figure size 720x720 with 1 Axes>"
      ]
     },
     "metadata": {},
     "output_type": "display_data"
    }
   ],
   "source": [
    "sentence_len = [len(tokens) for tokens in data.tokens]\n",
    "\n",
    "fig = plt.figure(figsize=(10, 10)) \n",
    "plt.xlabel('Sentence length')\n",
    "plt.ylabel('Number of sentences')\n",
    "plt.hist(sentence_len)\n",
    "plt.show()"
   ]
  },
  {
   "cell_type": "markdown",
   "metadata": {},
   "source": [
    "## Bag of words"
   ]
  },
  {
   "cell_type": "code",
   "execution_count": 6,
   "metadata": {},
   "outputs": [],
   "source": [
    "from sklearn.feature_extraction.text import CountVectorizer\n",
    "from sklearn.model_selection import train_test_split\n",
    "\n",
    "def cv(data):\n",
    "    count_vectorizer = CountVectorizer()\n",
    "\n",
    "    emb = count_vectorizer.fit_transform(data)\n",
    "\n",
    "    return emb, count_vectorizer\n",
    "\n",
    "X = data.review\n",
    "y = data.rating\n",
    "\n",
    "train_x,test_x,train_y,test_y = train_test_split(X,y,stratify=y,test_size=0.1,random_state=42)"
   ]
  },
  {
   "cell_type": "code",
   "execution_count": 7,
   "metadata": {},
   "outputs": [
    {
     "name": "stdout",
     "output_type": "stream",
     "text": [
      "(102491,)\n",
      "(102491,)\n",
      "(11388,)\n",
      "(11388,)\n"
     ]
    }
   ],
   "source": [
    "print(train_x.shape)\n",
    "print(train_y.shape)\n",
    "print(test_x.shape)\n",
    "print(test_y.shape)"
   ]
  },
  {
   "cell_type": "code",
   "execution_count": 8,
   "metadata": {},
   "outputs": [],
   "source": [
    "x_train_count, count_vectorizer = cv(train_x)\n",
    "x_test_count = count_vectorizer.transform(test_x)"
   ]
  },
  {
   "cell_type": "code",
   "execution_count": 9,
   "metadata": {},
   "outputs": [
    {
     "data": {
      "text/plain": [
       "LogisticRegression(C=1.0, class_weight=None, dual=False, fit_intercept=True,\n",
       "          intercept_scaling=1, max_iter=100, multi_class='ovr', n_jobs=1,\n",
       "          penalty='l2', random_state=None, solver='liblinear', tol=0.0001,\n",
       "          verbose=0, warm_start=False)"
      ]
     },
     "execution_count": 9,
     "metadata": {},
     "output_type": "execute_result"
    }
   ],
   "source": [
    "from sklearn.linear_model import LogisticRegression\n",
    "\n",
    "lr = LogisticRegression()\n",
    "lr.fit(x_train_count,train_y)"
   ]
  },
  {
   "cell_type": "code",
   "execution_count": 10,
   "metadata": {},
   "outputs": [],
   "source": [
    "pred = lr.predict(x_test_count)"
   ]
  },
  {
   "cell_type": "code",
   "execution_count": 11,
   "metadata": {},
   "outputs": [
    {
     "name": "stdout",
     "output_type": "stream",
     "text": [
      "0.26396206533192834\n"
     ]
    }
   ],
   "source": [
    "from sklearn.metrics import mean_absolute_error\n",
    "print(mean_absolute_error(pred,test_y))"
   ]
  },
  {
   "cell_type": "code",
   "execution_count": 12,
   "metadata": {},
   "outputs": [],
   "source": [
    "def get_most_important_features(vectorizer, model, n=5):\n",
    "    index_to_word = {v:k for k,v in vectorizer.vocabulary_.items()}\n",
    "    \n",
    "    # loop for each class\n",
    "    classes ={}\n",
    "    for class_index in range(model.coef_.shape[0]):\n",
    "        word_importances = [(el, index_to_word[i]) for i,el in enumerate(model.coef_[class_index])]\n",
    "        sorted_coeff = sorted(word_importances, key = lambda x : x[0], reverse=True)\n",
    "        tops = sorted(sorted_coeff[:n], key = lambda x : x[0])\n",
    "        bottom = sorted_coeff[-n:]\n",
    "        classes[class_index] = {\n",
    "            'tops':tops,\n",
    "            'bottom':bottom\n",
    "        }\n",
    "    return classes\n",
    "\n",
    "importance = get_most_important_features(count_vectorizer, lr, 10)"
   ]
  },
  {
   "cell_type": "code",
   "execution_count": 13,
   "metadata": {},
   "outputs": [
    {
     "data": {
      "text/plain": [
       "{0: {'bottom': [(-2.1706116914930846, 'fantastic'),\n",
       "   (-2.1731792354805513, 'best'),\n",
       "   (-2.195695243346146, 'osm'),\n",
       "   (-2.215054234111131, 'nic'),\n",
       "   (-2.328148204110099, 'amazing'),\n",
       "   (-2.354616036955454, 'mast'),\n",
       "   (-2.418488983706014, 'loving'),\n",
       "   (-2.4270122060246178, 'awesome'),\n",
       "   (-2.642450045489917, 'superb'),\n",
       "   (-2.776164287262972, 'excellent')],\n",
       "  'tops': [(2.36003887671898, 'useless'),\n",
       "   (2.4201769494371113, 'trash'),\n",
       "   (2.4369392990346963, 'waste'),\n",
       "   (2.48872613430624, 'west'),\n",
       "   (2.53742058179195, 'garbage'),\n",
       "   (2.5874774973547945, 'wast'),\n",
       "   (2.6198646490091577, 'faltu'),\n",
       "   (2.689675831787258, 'bakwas'),\n",
       "   (3.115593936105248, 'worst'),\n",
       "   (3.2514873678800336, 'wrost')]},\n",
       " 1: {'bottom': [(-1.3825504610536619, 'tons'),\n",
       "   (-1.40036612452097, 'exactly'),\n",
       "   (-1.4292877093337386, 'exists'),\n",
       "   (-1.4372534052156436, 'notifs'),\n",
       "   (-1.4402484575999992, 'remind'),\n",
       "   (-1.4914121743388595, 'wrost'),\n",
       "   (-1.5059647925840742, 'usual'),\n",
       "   (-1.5209177569394268, 'worst'),\n",
       "   (-1.6269887172767536, 'west'),\n",
       "   (-1.6424369773294634, 'anybody')],\n",
       "  'tops': [(1.4635935119687065, 'ita'),\n",
       "   (1.4776638443360173, 'optimised'),\n",
       "   (1.4959297163736427, 'slowed'),\n",
       "   (1.4974280758505885, 'portfolio'),\n",
       "   (1.5668666967008136, 'nepali'),\n",
       "   (1.5842398037649477, 'cookies'),\n",
       "   (1.585739022770735, 'scann'),\n",
       "   (1.6335254901735732, 'heartbreaking'),\n",
       "   (1.6416363826139737, 'installs'),\n",
       "   (1.6775237613660468, 'borders')]},\n",
       " 2: {'bottom': [(-2.2543800734871327, 'west'),\n",
       "   (-2.299288805154882, 'terrible'),\n",
       "   (-2.410309075923655, 'garbage'),\n",
       "   (-2.446388213055305, 'wast'),\n",
       "   (-2.520307483948054, 'useless'),\n",
       "   (-2.52540095971664, 'waste'),\n",
       "   (-2.655859306636501, 'bakwas'),\n",
       "   (-2.667280571944632, 'faltu'),\n",
       "   (-3.0279622304375637, 'wrost'),\n",
       "   (-3.198429796805864, 'worst')],\n",
       "  'tops': [(2.119609753692563, 'best'),\n",
       "   (2.1842040270901575, 'awesome'),\n",
       "   (2.2567075748517085, 'amazing'),\n",
       "   (2.313364253888307, 'superb'),\n",
       "   (2.3307480484722105, 'awsome'),\n",
       "   (2.3595373429042303, 'nic'),\n",
       "   (2.4123053075038032, 'mast'),\n",
       "   (2.43167096600887, 'brilliant'),\n",
       "   (2.460554705941053, 'excellent'),\n",
       "   (2.571045422038743, 'loving')]}}"
      ]
     },
     "execution_count": 13,
     "metadata": {},
     "output_type": "execute_result"
    }
   ],
   "source": [
    "importance"
   ]
  },
  {
   "cell_type": "code",
   "execution_count": 14,
   "metadata": {},
   "outputs": [],
   "source": [
    "# TODO\n",
    "# Naive bayes\n",
    "# RNN (?)\n",
    "\n",
    "# Try out with Tf-idf word-embeddings,"
   ]
  },
  {
   "cell_type": "code",
   "execution_count": 15,
   "metadata": {},
   "outputs": [],
   "source": [
    "a = count_vectorizer.transform([\"Controls are sloppy and I die often when holding down one direction. The upgrades are also very expensive, almost as if the developers want you to buy the coins. If unexpierenced, this game will make you rage. Other than that, the game is overall good. Unique designs, interesting mechanics, and mult\",\"This game has potential but sadly I just cant Play the game, Theres no tutorial or anything, The tips are not helpful, ADS ARE WORST, This game is good but you lack so many Things to this game to be considered a good game.\",\"I get it. You guys need to make money though ads. But cmon, one every other run? That's just too much, even with the possibility of canceling them with 5 seconds, it just adds up to too many in too little time becausr the runs are fairly quick. I'm giving it two stars solely for this reason. I loved\"])"
   ]
  },
  {
   "cell_type": "code",
   "execution_count": 16,
   "metadata": {},
   "outputs": [],
   "source": [
    "pred = lr.predict(a)"
   ]
  },
  {
   "cell_type": "code",
   "execution_count": 17,
   "metadata": {},
   "outputs": [
    {
     "data": {
      "text/plain": [
       "array([3, 1, 2])"
      ]
     },
     "execution_count": 17,
     "metadata": {},
     "output_type": "execute_result"
    }
   ],
   "source": [
    "pred"
   ]
  },
  {
   "cell_type": "markdown",
   "metadata": {},
   "source": [
    "## TF-idf"
   ]
  },
  {
   "cell_type": "code",
   "execution_count": 18,
   "metadata": {},
   "outputs": [],
   "source": [
    "from sklearn.feature_extraction.text import TfidfVectorizer\n",
    "def tfidf(data):\n",
    "    tf_vectorizer = TfidfVectorizer()\n",
    "\n",
    "    emb = tf_vectorizer.fit_transform(data)\n",
    "\n",
    "    return emb, tf_vectorizer\n",
    "\n",
    "X = data.review\n",
    "y = data.rating\n",
    "\n",
    "train_x,test_x,train_y,test_y = train_test_split(X,y,stratify=y,test_size=0.1,random_state=42)"
   ]
  },
  {
   "cell_type": "code",
   "execution_count": 19,
   "metadata": {},
   "outputs": [
    {
     "name": "stdout",
     "output_type": "stream",
     "text": [
      "(102491,)\n",
      "(102491,)\n",
      "(11388,)\n",
      "(11388,)\n"
     ]
    }
   ],
   "source": [
    "print(train_x.shape)\n",
    "print(train_y.shape)\n",
    "print(test_x.shape)\n",
    "print(test_y.shape)"
   ]
  },
  {
   "cell_type": "code",
   "execution_count": 20,
   "metadata": {},
   "outputs": [],
   "source": [
    "x_train_count, tf_vectorizer = tfidf(train_x)\n",
    "x_test_count = tf_vectorizer.transform(test_x)"
   ]
  },
  {
   "cell_type": "code",
   "execution_count": 21,
   "metadata": {},
   "outputs": [],
   "source": [
    "from sklearn.linear_model import LogisticRegression\n",
    "\n",
    "lr = LogisticRegression()\n",
    "lr.fit(x_train_count,train_y)\n",
    "\n",
    "pred = lr.predict(x_test_count)"
   ]
  },
  {
   "cell_type": "code",
   "execution_count": 22,
   "metadata": {},
   "outputs": [
    {
     "name": "stdout",
     "output_type": "stream",
     "text": [
      "0.2507903055848261\n"
     ]
    }
   ],
   "source": [
    "print(mean_absolute_error(pred,test_y))"
   ]
  },
  {
   "cell_type": "code",
   "execution_count": 23,
   "metadata": {},
   "outputs": [],
   "source": [
    "def get_most_important_features(vectorizer, model, n=5):\n",
    "    index_to_word = {v:k for k,v in vectorizer.vocabulary_.items()}\n",
    "    \n",
    "    # loop for each class\n",
    "    classes ={}\n",
    "    for class_index in range(model.coef_.shape[0]):\n",
    "        word_importances = [(el, index_to_word[i]) for i,el in enumerate(model.coef_[class_index])]\n",
    "        sorted_coeff = sorted(word_importances, key = lambda x : x[0], reverse=True)\n",
    "        tops = sorted(sorted_coeff[:n], key = lambda x : x[0])\n",
    "        bottom = sorted_coeff[-n:]\n",
    "        classes[class_index] = {\n",
    "            'tops':tops,\n",
    "            'bottom':bottom\n",
    "        }\n",
    "    return classes\n",
    "\n",
    "importance = get_most_important_features(count_vectorizer, lr, 10)"
   ]
  },
  {
   "cell_type": "code",
   "execution_count": 24,
   "metadata": {},
   "outputs": [
    {
     "data": {
      "text/plain": [
       "{0: {'bottom': [(-4.625561197483902, 'wonderful'),\n",
       "   (-5.243165364025989, 'nice'),\n",
       "   (-5.954797247499891, 'good'),\n",
       "   (-7.000867435935583, 'excellent'),\n",
       "   (-7.558534268490747, 'awesome'),\n",
       "   (-8.089594366232944, 'amazing'),\n",
       "   (-8.202260874077357, 'easy'),\n",
       "   (-8.584317676866817, 'best'),\n",
       "   (-9.688530827872345, 'great'),\n",
       "   (-10.729594541258638, 'love')],\n",
       "  'tops': [(4.699117889318672, 'pay'),\n",
       "   (4.76605834245939, 'fake'),\n",
       "   (5.21795321733553, 'scam'),\n",
       "   (5.239224794047829, 'stupid'),\n",
       "   (5.656636043271442, 'horrible'),\n",
       "   (5.660579941098805, 'terrible'),\n",
       "   (5.706135933293488, 'not'),\n",
       "   (6.899475904640098, 'useless'),\n",
       "   (6.986247433697868, 'waste'),\n",
       "   (9.16006517228161, 'worst')]},\n",
       " 1: {'bottom': [(-2.578016038754663, 'perfect'),\n",
       "   (-2.5791784411468366, 'worth'),\n",
       "   (-2.7876616739304585, 'ever'),\n",
       "   (-2.90084216748556, 'recommend'),\n",
       "   (-3.184270464406428, 'love'),\n",
       "   (-3.255204950547661, 'install'),\n",
       "   (-3.269638713958965, 'amazing'),\n",
       "   (-3.5302715054950062, 'best'),\n",
       "   (-3.7830386051652716, 'waste'),\n",
       "   (-4.471096250942911, 'worst')],\n",
       "  'tops': [(1.9097559552763477, 'please'),\n",
       "   (1.9409652768219408, 'translation'),\n",
       "   (1.9668535889068723, 'lags'),\n",
       "   (2.0159521138611614, 'when'),\n",
       "   (2.0472721346713483, 'stars'),\n",
       "   (2.09077960189047, 'okay'),\n",
       "   (2.158850845250211, 'frequently'),\n",
       "   (2.586463564732477, 'limited'),\n",
       "   (3.521637191741406, 'however'),\n",
       "   (5.018849103111517, 'but')]},\n",
       " 2: {'bottom': [(-4.594560226262789, 'poor'),\n",
       "   (-4.689923358573448, 'bad'),\n",
       "   (-4.818200342884564, 'stupid'),\n",
       "   (-4.950537952521686, 'scam'),\n",
       "   (-5.232924143222863, 'terrible'),\n",
       "   (-5.261065642296553, 'horrible'),\n",
       "   (-5.980647950957417, 'not'),\n",
       "   (-6.688375456664622, 'waste'),\n",
       "   (-6.80096078145276, 'useless'),\n",
       "   (-8.714533531366687, 'worst')],\n",
       "  'tops': [(4.669624530380708, 'fantastic'),\n",
       "   (4.737336688764873, 'good'),\n",
       "   (4.862738859882518, 'perfect'),\n",
       "   (6.570676346645044, 'excellent'),\n",
       "   (6.712482459064576, 'easy'),\n",
       "   (7.296035550766206, 'awesome'),\n",
       "   (7.953707148377791, 'amazing'),\n",
       "   (8.590086395432557, 'best'),\n",
       "   (8.64573573727703, 'great'),\n",
       "   (9.931536409059708, 'love')]}}"
      ]
     },
     "execution_count": 24,
     "metadata": {},
     "output_type": "execute_result"
    }
   ],
   "source": [
    "importance"
   ]
  },
  {
   "cell_type": "markdown",
   "metadata": {},
   "source": [
    "### Pipeline\n",
    "- CountVectorizer\n",
    "- TfIdfTransformer\n",
    "- Naive bayes classifier"
   ]
  },
  {
   "cell_type": "code",
   "execution_count": 25,
   "metadata": {},
   "outputs": [],
   "source": [
    "from sklearn.pipeline import Pipeline\n",
    "from sklearn.feature_extraction.text import TfidfTransformer\n",
    "from sklearn.naive_bayes import MultinomialNB\n",
    "\n",
    "text_clf = Pipeline([('vect', CountVectorizer()),\n",
    "                     ('tfidf', TfidfTransformer()),\n",
    "                     ('clf', MultinomialNB())])"
   ]
  },
  {
   "cell_type": "code",
   "execution_count": 26,
   "metadata": {},
   "outputs": [],
   "source": [
    "from sklearn.model_selection import GridSearchCV\n",
    "\n",
    "X = data.review\n",
    "y = data.rating\n",
    "\n",
    "train_x,test_x,train_y,test_y = train_test_split(X,y,stratify=y,test_size=0.1,random_state=42)"
   ]
  },
  {
   "cell_type": "code",
   "execution_count": 27,
   "metadata": {},
   "outputs": [
    {
     "data": {
      "text/plain": [
       "GridSearchCV(cv=10, error_score='raise',\n",
       "       estimator=Pipeline(memory=None,\n",
       "     steps=[('vect', CountVectorizer(analyzer='word', binary=False, decode_error='strict',\n",
       "        dtype=<class 'numpy.int64'>, encoding='utf-8', input='content',\n",
       "        lowercase=True, max_df=1.0, max_features=None, min_df=1,\n",
       "        ngram_range=(1, 1), preprocessor=None, stop_words=None,\n",
       "        strip...inear_tf=False, use_idf=True)), ('clf', MultinomialNB(alpha=1.0, class_prior=None, fit_prior=True))]),\n",
       "       fit_params=None, iid=True, n_jobs=1,\n",
       "       param_grid={'clf__alpha': [1, 0.1, 0.01], 'tfidf__use_idf': (True, False), 'tfidf__norm': ('l1', 'l2'), 'vect__ngram_range': [(1, 1), (1, 2), (2, 2)]},\n",
       "       pre_dispatch='2*n_jobs', refit=True, return_train_score='warn',\n",
       "       scoring='accuracy', verbose=0)"
      ]
     },
     "execution_count": 27,
     "metadata": {},
     "output_type": "execute_result"
    }
   ],
   "source": [
    "tuned_parameters = {\n",
    "    'vect__ngram_range': [(1, 1), (1, 2), (2, 2)],\n",
    "    'tfidf__use_idf': (True, False),\n",
    "    'tfidf__norm': ('l1', 'l2'),\n",
    "    'clf__alpha': [1, 1e-1, 1e-2]\n",
    "}\n",
    "\n",
    "clf = GridSearchCV(text_clf, tuned_parameters, cv=10, scoring='accuracy')\n",
    "clf.fit(train_x, train_y)"
   ]
  },
  {
   "cell_type": "code",
   "execution_count": 28,
   "metadata": {},
   "outputs": [],
   "source": [
    "from sklearn.metrics import classification_report"
   ]
  },
  {
   "cell_type": "code",
   "execution_count": 29,
   "metadata": {},
   "outputs": [
    {
     "name": "stdout",
     "output_type": "stream",
     "text": [
      "             precision    recall  f1-score   support\n",
      "\n",
      "          1     0.8165    0.8869    0.8502      4561\n",
      "          2     0.5000    0.0012    0.0025       807\n",
      "          3     0.8567    0.9153    0.8850      6020\n",
      "\n",
      "avg / total     0.8153    0.8391    0.8085     11388\n",
      "\n"
     ]
    }
   ],
   "source": [
    "print(classification_report(test_y, clf.predict(test_x), digits=4))"
   ]
  },
  {
   "cell_type": "code",
   "execution_count": 30,
   "metadata": {},
   "outputs": [
    {
     "name": "stdout",
     "output_type": "stream",
     "text": [
      "0.25087811731647347\n"
     ]
    }
   ],
   "source": [
    "print(mean_absolute_error(clf.predict(test_x),test_y))"
   ]
  },
  {
   "cell_type": "code",
   "execution_count": 31,
   "metadata": {},
   "outputs": [
    {
     "data": {
      "text/plain": [
       "Pipeline(memory=None,\n",
       "     steps=[('vect', CountVectorizer(analyzer='word', binary=False, decode_error='strict',\n",
       "        dtype=<class 'numpy.int64'>, encoding='utf-8', input='content',\n",
       "        lowercase=True, max_df=1.0, max_features=None, min_df=1,\n",
       "        ngram_range=(1, 2), preprocessor=None, stop_words=None,\n",
       "        strip...alse,\n",
       "         use_idf=False)), ('clf', MultinomialNB(alpha=0.1, class_prior=None, fit_prior=True))])"
      ]
     },
     "execution_count": 31,
     "metadata": {},
     "output_type": "execute_result"
    }
   ],
   "source": [
    "clf.best_estimator_"
   ]
  },
  {
   "cell_type": "markdown",
   "metadata": {},
   "source": [
    "### Save the model"
   ]
  },
  {
   "cell_type": "code",
   "execution_count": 32,
   "metadata": {},
   "outputs": [],
   "source": [
    "tobePersisted = dict({\n",
    "    'model': clf.best_estimator_,\n",
    "    'metadata': {\n",
    "        'name': 'App sentiment analysis',\n",
    "        'metrics': {\n",
    "            'f1-score': 0.8085\n",
    "        }\n",
    "    }\n",
    "})"
   ]
  },
  {
   "cell_type": "code",
   "execution_count": 33,
   "metadata": {},
   "outputs": [
    {
     "data": {
      "text/plain": [
       "{'metadata': {'metrics': {'f1-score': 0.8085},\n",
       "  'name': 'App sentiment analysis'},\n",
       " 'model': Pipeline(memory=None,\n",
       "      steps=[('vect', CountVectorizer(analyzer='word', binary=False, decode_error='strict',\n",
       "         dtype=<class 'numpy.int64'>, encoding='utf-8', input='content',\n",
       "         lowercase=True, max_df=1.0, max_features=None, min_df=1,\n",
       "         ngram_range=(1, 2), preprocessor=None, stop_words=None,\n",
       "         strip...alse,\n",
       "          use_idf=False)), ('clf', MultinomialNB(alpha=0.1, class_prior=None, fit_prior=True))])}"
      ]
     },
     "execution_count": 33,
     "metadata": {},
     "output_type": "execute_result"
    }
   ],
   "source": [
    "tobePersisted"
   ]
  },
  {
   "cell_type": "code",
   "execution_count": 35,
   "metadata": {},
   "outputs": [
    {
     "data": {
      "text/plain": [
       "['model.joblib']"
      ]
     },
     "execution_count": 35,
     "metadata": {},
     "output_type": "execute_result"
    }
   ],
   "source": [
    "from joblib import dump\n",
    "dump(tobePersisted,'model.joblib')"
   ]
  },
  {
   "cell_type": "code",
   "execution_count": 36,
   "metadata": {},
   "outputs": [
    {
     "data": {
      "text/plain": [
       "'the backup device doesn t seem to work  when i go into settings to start a backup  it says its offline try again later  even though my internet is obviously just fine since i just dl d the app  reached out to support and they were very unhelpful  seemed unaware of amy function of this app  according'"
      ]
     },
     "execution_count": 36,
     "metadata": {},
     "output_type": "execute_result"
    }
   ],
   "source": [
    "data.review[5]"
   ]
  },
  {
   "cell_type": "code",
   "execution_count": 37,
   "metadata": {},
   "outputs": [
    {
     "data": {
      "text/plain": [
       "1"
      ]
     },
     "execution_count": 37,
     "metadata": {},
     "output_type": "execute_result"
    }
   ],
   "source": [
    "data.rating[5]"
   ]
  },
  {
   "cell_type": "code",
   "execution_count": null,
   "metadata": {},
   "outputs": [],
   "source": []
  }
 ],
 "metadata": {
  "kernelspec": {
   "display_name": "Python 3",
   "language": "python",
   "name": "python3"
  },
  "language_info": {
   "codemirror_mode": {
    "name": "ipython",
    "version": 3
   },
   "file_extension": ".py",
   "mimetype": "text/x-python",
   "name": "python",
   "nbconvert_exporter": "python",
   "pygments_lexer": "ipython3",
   "version": "3.5.2"
  }
 },
 "nbformat": 4,
 "nbformat_minor": 2
}
